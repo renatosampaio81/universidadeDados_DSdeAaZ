{
  "cells": [
    {
      "metadata": {
        "_uuid": "a880fa380754b8b9e2b4d8e1b2f60dcfc64bb0d6",
        "_cell_guid": "2ba16ea1-375f-0568-2aa4-49287fc1dded"
      },
      "cell_type": "markdown",
      "source": ""
    },
    {
      "metadata": {
        "_uuid": "aafba4e2b64a9d7c651925befeb21e3e91f2dbd4",
        "_cell_guid": "0ecf18ea-a778-e515-abc8-c118fe863a4a",
        "trusted": false,
        "collapsed": true
      },
      "cell_type": "code",
      "source": "import pandas as pd\nimport matplotlib.pyplot as plt\nfrom collections import Counter  ",
      "execution_count": null,
      "outputs": []
    },
    {
      "metadata": {
        "_uuid": "c625c0bc24263a1321d3732c1dc1f5b5a5fcbce6",
        "_cell_guid": "b9ceebc2-84f9-fca3-8dfd-82a7078bf049",
        "trusted": false,
        "collapsed": true
      },
      "cell_type": "code",
      "source": "battles = pd.read_csv(\"../input/battles.csv\")\ncharacter_deaths = pd.read_csv(\"../input/character-deaths.csv\")\ncharacter_predictions = pd.read_csv(\"../input/character-predictions.csv\")",
      "execution_count": null,
      "outputs": []
    },
    {
      "metadata": {
        "_uuid": "949ba54141a42b94f56b99e33b1cea0cce8ee1c6",
        "_cell_guid": "967c12ad-9c2e-f3d9-51a2-0f8e4137a189",
        "trusted": false,
        "collapsed": true
      },
      "cell_type": "code",
      "source": "a = Counter(character_deaths['Book Intro Chapter'])\nb = Counter(character_deaths['Death Chapter'])\nc = Counter(character_deaths['Book of Death'])\nd = Counter(battles['attacker_king'])\ne = Counter(battles['defender_king'])\nf = Counter(battles['region'])\ng = Counter(battles['battle_type'])\nh = character_predictions['alive']\ni = character_predictions['popularity']",
      "execution_count": null,
      "outputs": []
    },
    {
      "metadata": {
        "_uuid": "4c0752eb9a0f445c06256cc387d7125283369cd7",
        "_cell_guid": "95162c2a-a453-28c8-661b-e867818a9465"
      },
      "cell_type": "markdown",
      "source": "**Analyzing character-deaths.csv dataset.**\n"
    },
    {
      "metadata": {
        "_uuid": "72f1db389add86708b2f4ed86710d55030100071",
        "_cell_guid": "513d1492-7d81-96b4-cf67-f8848b06bf56",
        "trusted": false,
        "collapsed": true
      },
      "cell_type": "code",
      "source": "plt.bar(a.keys(), a.values())\nplt.title('Book Intro Chapter')\nplt.xlabel('Chapter')\nplt.ylabel('Characters')\nplt.show()",
      "execution_count": null,
      "outputs": []
    },
    {
      "metadata": {
        "_uuid": "316c3972033a2672bb9df76592332e579a421a81",
        "_cell_guid": "682c0e3b-d70e-822b-6b05-1fb654ec3669",
        "trusted": false,
        "collapsed": true
      },
      "cell_type": "code",
      "source": "plt.bar(b.keys(), b.values())\nplt.title('Death Chapter')\nplt.xlabel('Chapter')\nplt.ylabel('Character deaths')\nplt.show()",
      "execution_count": null,
      "outputs": []
    },
    {
      "metadata": {
        "_uuid": "22ea6e311a6ad0a9777d86cc3578574d54832be6",
        "_cell_guid": "5aae38ee-b9eb-a904-39da-a68bdb557a27"
      },
      "cell_type": "markdown",
      "source": "We can observe chapters with few deaths are between chapters with many deaths. These data can mean peace times between war times."
    },
    {
      "metadata": {
        "_uuid": "2fd1ddc4318886d67874ed9734620da90bd69f51",
        "_cell_guid": "8e357580-aaae-a232-1bfe-1425e2ebdb16",
        "trusted": false,
        "collapsed": true
      },
      "cell_type": "code",
      "source": "plt.bar(c.keys(), c.values())\nplt.title('Book of Death')\nplt.xlabel('Book')\nplt.ylabel('Character deaths')\nplt.show()",
      "execution_count": null,
      "outputs": []
    },
    {
      "metadata": {
        "_uuid": "1bd5866c0c312413a34f166ff6a9986d884d6994",
        "_cell_guid": "ef2c8f95-998c-fdac-c344-10a5a1b87088"
      },
      "cell_type": "markdown",
      "source": "The growth trend of deaths is interrupted by a significant drop in book 4."
    },
    {
      "metadata": {
        "_uuid": "9f3fd886fc459913046c4d0de6333c44216d64e7",
        "_cell_guid": "839770ac-aba6-0a8a-fded-738b0dac0e2f",
        "trusted": false,
        "collapsed": true
      },
      "cell_type": "code",
      "source": "character_deaths.groupby(['Allegiances']).sum()[[\"Nobility\"]].plot.bar()\nplt.xlabel('Allegiances')\nplt.ylabel('Notable deaths')\nplt.show()",
      "execution_count": null,
      "outputs": []
    },
    {
      "metadata": {
        "_uuid": "c22c1f9fded9df43364da968f979713146b8999e",
        "_cell_guid": "26624ff9-6d79-b891-869a-16499454de59"
      },
      "cell_type": "markdown",
      "source": "There are more notable deaths in Stark and Lannister alliances."
    },
    {
      "metadata": {
        "_uuid": "618c194113350de7a863f0dcd26f4063d5267188",
        "_cell_guid": "f53274d3-38e3-3a8f-c027-4a69fc08e3cd"
      },
      "cell_type": "markdown",
      "source": "**Analyzing battles.csv dataset.**"
    },
    {
      "metadata": {
        "_uuid": "55dbb95f2f1d4f0e61a2d5f4f08e7413d706d043",
        "_cell_guid": "ddbc2e1a-71ab-bb2d-984b-02d2e866fdea",
        "trusted": false,
        "collapsed": true
      },
      "cell_type": "code",
      "source": "plt.pie([float(v) for v in d.values()], labels=[k for k in d.keys()],autopct='%1.1f%%', startangle=90)\nplt.axis('equal')\nplt.title('Attacker king',  loc='left')\nplt.show()",
      "execution_count": null,
      "outputs": []
    },
    {
      "metadata": {
        "_uuid": "11d082d75957d9c912df6282ed6b4deac2f4afcf",
        "_cell_guid": "5cc58a35-20e0-d90d-4fcd-b7709cf254c3",
        "trusted": false,
        "collapsed": true
      },
      "cell_type": "code",
      "source": "plt.pie([float(v) for v in e.values()], labels=[k for k in e.keys()],autopct='%1.1f%%', startangle=90)\nplt.axis('equal')\nplt.title('Defender king', loc='left')\nplt.show()",
      "execution_count": null,
      "outputs": []
    },
    {
      "metadata": {
        "_uuid": "e01a074d5eca0204f5f2c1de5e4da98031ae66b5",
        "_cell_guid": "6ba27fd0-f192-0d6b-22b7-dd987ae6c843"
      },
      "cell_type": "markdown",
      "source": "Most of the battles are related to the kings Robb Stark and Joffrey/Tommen Barathen. The kingdom that made more attacks was the Baratheon. Robb Starrk and Joffrey/Tommen Baratheon were the most defenders."
    },
    {
      "metadata": {
        "_uuid": "31baf37fe21937213f75c6f42c3cbec460315ab0",
        "_cell_guid": "17f18a36-d0ed-c914-0c25-642888004334",
        "trusted": false,
        "collapsed": true
      },
      "cell_type": "code",
      "source": "plt.pie([float(v) for v in f.values()], labels=[k for k in f.keys()],autopct='%1.1f%%')\nplt.axis('equal')\nplt.title('Region', loc='left')\nplt.show()",
      "execution_count": null,
      "outputs": []
    },
    {
      "metadata": {
        "_uuid": "7dac0a9827a1f4ec7e5ee47ccae8b76af46a423f",
        "_cell_guid": "551bdca7-1cca-55ee-f1a6-8aad8195ca86"
      },
      "cell_type": "markdown",
      "source": "Most battles were held in The Riverlands region. Another region where there were many battles was The North. "
    },
    {
      "metadata": {
        "_uuid": "740e46ce7194a30c3bf43bfde97162b910faeb9e",
        "_cell_guid": "8c00cebb-beb0-d44b-089a-04452ffba92e",
        "trusted": false,
        "collapsed": true
      },
      "cell_type": "code",
      "source": "plt.pie([float(v) for v in g.values()], labels=[k for k in g.keys()],autopct='%1.1f%%', startangle=90)\nplt.axis('equal')\nplt.title('Battle type', loc='left')\nplt.show()",
      "execution_count": null,
      "outputs": []
    },
    {
      "metadata": {
        "_uuid": "d25162d6d183293800909d09dc360c50c339c739",
        "_cell_guid": "ccc65a92-430f-0f67-c7d1-c9fbdffd3e5a"
      },
      "cell_type": "markdown",
      "source": "Among the types of battles there is a balance between ambush, siege and pitched battle"
    },
    {
      "metadata": {
        "_uuid": "28cd27a44b2aec2e596041656d468d313f63ddca",
        "_cell_guid": "4cbcd5d3-3d29-e728-0eec-dd6526676be4"
      },
      "cell_type": "markdown",
      "source": "**Analyzing character-predictions.csv dataset.**"
    },
    {
      "metadata": {
        "_uuid": "5f4d6f1d5dd786d76fb7ce6a25dcf1ed7035020a",
        "_cell_guid": "efc21aa6-e302-cecc-9825-52603dd9580f",
        "trusted": false,
        "collapsed": true
      },
      "cell_type": "code",
      "source": "plt.boxplot(h.values)\nplt.title('Alive')\nplt.show()",
      "execution_count": null,
      "outputs": []
    },
    {
      "metadata": {
        "_uuid": "bb738ab2a3d0fb16e239c0a99e1e9fbbd0e1f88c",
        "_cell_guid": "4ea2b881-d5b4-9fbb-2e15-6ead982e6fe2"
      },
      "cell_type": "markdown",
      "source": "Most characters had a value greater than 0,7."
    },
    {
      "metadata": {
        "_uuid": "889e0ad5d565b3a550386ee6028c1114394be31f",
        "_cell_guid": "75164ee0-9bc9-f127-4aad-376511256e4c",
        "trusted": false,
        "collapsed": true
      },
      "cell_type": "code",
      "source": "plt.boxplot(i.values)\nplt.title('Popularity')\nplt.show()",
      "execution_count": null,
      "outputs": []
    },
    {
      "metadata": {
        "_uuid": "23e770861a82d3a3a90dc21c46b816f0266738db",
        "_cell_guid": "74c7bcc4-d833-7eb7-6cb8-064247a21340"
      },
      "cell_type": "markdown",
      "source": "The boxplot shows that most characters have low popularity."
    }
  ],
  "metadata": {
    "_is_fork": false,
    "_change_revision": 0,
    "language_info": {
      "name": "python",
      "version": "3.6.3",
      "mimetype": "text/x-python",
      "codemirror_mode": {
        "name": "ipython",
        "version": 3
      },
      "pygments_lexer": "ipython3",
      "nbconvert_exporter": "python",
      "file_extension": ".py"
    },
    "kernelspec": {
      "display_name": "Python 3",
      "language": "python",
      "name": "python3"
    }
  },
  "nbformat": 4,
  "nbformat_minor": 1
}